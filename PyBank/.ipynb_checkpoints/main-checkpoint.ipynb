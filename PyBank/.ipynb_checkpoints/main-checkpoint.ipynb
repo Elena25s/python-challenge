{
 "cells": [
  {
   "cell_type": "code",
   "execution_count": 2,
   "id": "6e95a4c3-d3f9-4ab7-92c7-6f2bc30ab95d",
   "metadata": {},
   "outputs": [],
   "source": [
    "import os\n",
    "import csv"
   ]
  },
  {
   "cell_type": "code",
   "execution_count": 3,
   "id": "5f8799cb-75b1-4ac1-9f93-5793ffb69ca0",
   "metadata": {},
   "outputs": [],
   "source": [
    "total_months=0\n",
    "total_net=0"
   ]
  },
  {
   "cell_type": "code",
   "execution_count": 4,
   "id": "24e626ac-cd71-477e-978f-8c0cd9dde0be",
   "metadata": {},
   "outputs": [],
   "source": [
    "greatest_inc_mo = [0,0]\n",
    "greatest_inc = 0\n",
    "greatest_dec_mo = [0,0]\n",
    "greatest_dec = 0"
   ]
  },
  {
   "cell_type": "code",
   "execution_count": 5,
   "id": "b9d7c3c2-a3e6-4cbd-9005-b16f24b75309",
   "metadata": {},
   "outputs": [],
   "source": [
    "t_sum = 0 \n",
    "day = 0 "
   ]
  },
  {
   "cell_type": "code",
   "execution_count": 6,
   "id": "c46823ef-8966-4378-bab0-a883f817bbb7",
   "metadata": {},
   "outputs": [],
   "source": [
    "file_to_load = os.path.join(\"Resources\", \"budget_data.csv\")\n",
    "file_to_output = os.path.join(\"analysis\", \"budget_analysis.txt\")"
   ]
  },
  {
   "cell_type": "code",
   "execution_count": 7,
   "id": "f0179ba5-07c0-421d-9d9c-dd20e9b994e0",
   "metadata": {},
   "outputs": [
    {
     "name": "stdout",
     "output_type": "stream",
     "text": [
      "There were 86 months in total\n",
      "Total: $22564198\n",
      "Average Change was: $-8311.11\n",
      "Greatest increase in profits: $1862002 in Aug-16\n",
      "Greatest decrease in profits: $-1825558 in Feb-14\n"
     ]
    }
   ],
   "source": [
    "with open(file_to_load) as csvfile:\n",
    "    csvreader = csv.reader(csvfile, delimiter = (\",\"))\n",
    "    \n",
    "    csvheaders = next(csvreader) \n",
    "\n",
    "\n",
    "    for x in csvreader:\n",
    "        \n",
    "        total_net= (total_net + int(x[1]))\n",
    "        total_months= total_months+1\n",
    "        \n",
    "        if total_months != 1:\n",
    "            difference = (int(x[1]) - day)\n",
    "        else:\n",
    "            difference = 0\n",
    "\n",
    "        t_sum = t_sum + difference\n",
    "        if difference > greatest_inc:\n",
    "            greatest_inc_mo = x\n",
    "            greatest_inc = difference\n",
    "        elif difference < greatest_dec: \n",
    "            greatest_dec_mo = x\n",
    "            greatest_dec = difference\n",
    "\n",
    "        day = int(x[1])\n",
    "\n",
    "print(f\"There were {total_months} months in total\")        \n",
    "print(f\"Total: ${total_net}\")\n",
    "print(f\"Average Change was: ${round(t_sum/(total_months-1),2)}\")\n",
    "print(f\"Greatest increase in profits: ${greatest_inc} in {greatest_inc_mo[0]}\")\n",
    "print(f\"Greatest decrease in profits: ${greatest_dec} in {greatest_dec_mo[0]}\")"
   ]
  },
  {
   "cell_type": "code",
   "execution_count": null,
   "id": "262d18bb-2087-4625-95cd-358b51c09ffc",
   "metadata": {},
   "outputs": [],
   "source": []
  }
 ],
 "metadata": {
  "kernelspec": {
   "display_name": "Python 3 (ipykernel)",
   "language": "python",
   "name": "python3"
  },
  "language_info": {
   "codemirror_mode": {
    "name": "ipython",
    "version": 3
   },
   "file_extension": ".py",
   "mimetype": "text/x-python",
   "name": "python",
   "nbconvert_exporter": "python",
   "pygments_lexer": "ipython3",
   "version": "3.12.7"
  }
 },
 "nbformat": 4,
 "nbformat_minor": 5
}

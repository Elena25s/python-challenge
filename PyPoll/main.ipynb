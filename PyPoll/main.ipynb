{
 "cells": [
  {
   "cell_type": "code",
   "execution_count": 1,
   "id": "c66f2515-a7f9-4235-8518-6b7e614c4376",
   "metadata": {},
   "outputs": [],
   "source": [
    "import csv\n",
    "import os"
   ]
  },
  {
   "cell_type": "code",
   "execution_count": 7,
   "id": "f25a0777-6dfe-4312-9731-b2dca868aec2",
   "metadata": {},
   "outputs": [],
   "source": [
    "file_to_load = os.path.join(\"Resources\", \"election_data.csv\")\n",
    "file_to_output = os.path.join(\"analysis\", \"election_analysis.txt\")"
   ]
  },
  {
   "cell_type": "code",
   "execution_count": 8,
   "id": "2f8ec386-e819-4891-85c7-a281379ffbb3",
   "metadata": {},
   "outputs": [],
   "source": [
    "total_votes = 0"
   ]
  },
  {
   "cell_type": "code",
   "execution_count": 9,
   "id": "d01bf8e8-f80a-4b7b-ab3d-d7d61b0fb8b6",
   "metadata": {},
   "outputs": [],
   "source": [
    "candidates = {}"
   ]
  },
  {
   "cell_type": "code",
   "execution_count": 10,
   "id": "4293ae60-0a50-4980-a4ba-67aee19d510c",
   "metadata": {},
   "outputs": [
    {
     "name": "stdout",
     "output_type": "stream",
     "text": [
      "The total number of votes is 369711\n",
      "Charles Casper Stockham got 85213 votes, 23.049% of total\n",
      "Diana DeGette got 272892 votes, 73.812% of total\n",
      "Raymon Anthony Doane got 11606 votes, 3.139% of total\n",
      "Winner is Diana DeGette with 272892 votes!\n"
     ]
    }
   ],
   "source": [
    "with open(file_to_load) as election_data:\n",
    "    reader = csv.reader(election_data)\n",
    "\n",
    "    header = next(reader)\n",
    " \n",
    "    for x in reader:\n",
    "        total_votes = total_votes + 1\n",
    "        if x[2] not in candidates:\n",
    "            candidates[x[2]] = 1\n",
    "        else:\n",
    "            candidates[x[2]] = (candidates[x[2]]+1)\n",
    "    \n",
    "    candidate_list =list(candidates.keys())\n",
    "   \n",
    "    print(f\"The total number of votes is {total_votes}\")\n",
    "\n",
    "    can = 0\n",
    "    for x in candidates:\n",
    "        print(f\"{candidate_list[can]} got {candidates[x]} votes, {round((candidates[x]/total_votes)*100,3)}% of total\")\n",
    "        can = can+1\n",
    "    can = 0 \n",
    "    \n",
    "    print(f\"Winner is {max(candidates, key = candidates.get)} with {max(candidates.values())} votes!\")"
   ]
  },
  {
   "cell_type": "code",
   "execution_count": null,
   "id": "c562e2f3-b80e-420d-98a6-e0af4a95f7d9",
   "metadata": {},
   "outputs": [],
   "source": []
  }
 ],
 "metadata": {
  "kernelspec": {
   "display_name": "Python 3 (ipykernel)",
   "language": "python",
   "name": "python3"
  },
  "language_info": {
   "codemirror_mode": {
    "name": "ipython",
    "version": 3
   },
   "file_extension": ".py",
   "mimetype": "text/x-python",
   "name": "python",
   "nbconvert_exporter": "python",
   "pygments_lexer": "ipython3",
   "version": "3.12.7"
  }
 },
 "nbformat": 4,
 "nbformat_minor": 5
}
